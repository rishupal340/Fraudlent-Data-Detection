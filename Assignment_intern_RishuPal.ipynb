{
 "cells": [
  {
   "cell_type": "code",
   "execution_count": 1,
   "id": "018293df",
   "metadata": {},
   "outputs": [],
   "source": [
    "import numpy as np\n",
    "import pandas as pd\n",
    "import matplotlib.pyplot as plt\n",
    "import seaborn as sns\n",
    "%matplotlib inline"
   ]
  },
  {
   "cell_type": "code",
   "execution_count": 2,
   "id": "c1373b45",
   "metadata": {},
   "outputs": [],
   "source": [
    "df = pd.read_csv(\"Fraud.csv\")"
   ]
  },
  {
   "cell_type": "code",
   "execution_count": 3,
   "id": "b2c8a6cc",
   "metadata": {},
   "outputs": [
    {
     "data": {
      "text/html": [
       "<div>\n",
       "<style scoped>\n",
       "    .dataframe tbody tr th:only-of-type {\n",
       "        vertical-align: middle;\n",
       "    }\n",
       "\n",
       "    .dataframe tbody tr th {\n",
       "        vertical-align: top;\n",
       "    }\n",
       "\n",
       "    .dataframe thead th {\n",
       "        text-align: right;\n",
       "    }\n",
       "</style>\n",
       "<table border=\"1\" class=\"dataframe\">\n",
       "  <thead>\n",
       "    <tr style=\"text-align: right;\">\n",
       "      <th></th>\n",
       "      <th>step</th>\n",
       "      <th>type</th>\n",
       "      <th>amount</th>\n",
       "      <th>nameOrig</th>\n",
       "      <th>oldbalanceOrg</th>\n",
       "      <th>newbalanceOrig</th>\n",
       "      <th>nameDest</th>\n",
       "      <th>oldbalanceDest</th>\n",
       "      <th>newbalanceDest</th>\n",
       "      <th>isFraud</th>\n",
       "      <th>isFlaggedFraud</th>\n",
       "    </tr>\n",
       "  </thead>\n",
       "  <tbody>\n",
       "    <tr>\n",
       "      <th>0</th>\n",
       "      <td>1</td>\n",
       "      <td>PAYMENT</td>\n",
       "      <td>9839.64</td>\n",
       "      <td>C1231006815</td>\n",
       "      <td>170136.0</td>\n",
       "      <td>160296.36</td>\n",
       "      <td>M1979787155</td>\n",
       "      <td>0.0</td>\n",
       "      <td>0.0</td>\n",
       "      <td>0</td>\n",
       "      <td>0</td>\n",
       "    </tr>\n",
       "    <tr>\n",
       "      <th>1</th>\n",
       "      <td>1</td>\n",
       "      <td>PAYMENT</td>\n",
       "      <td>1864.28</td>\n",
       "      <td>C1666544295</td>\n",
       "      <td>21249.0</td>\n",
       "      <td>19384.72</td>\n",
       "      <td>M2044282225</td>\n",
       "      <td>0.0</td>\n",
       "      <td>0.0</td>\n",
       "      <td>0</td>\n",
       "      <td>0</td>\n",
       "    </tr>\n",
       "    <tr>\n",
       "      <th>2</th>\n",
       "      <td>1</td>\n",
       "      <td>TRANSFER</td>\n",
       "      <td>181.00</td>\n",
       "      <td>C1305486145</td>\n",
       "      <td>181.0</td>\n",
       "      <td>0.00</td>\n",
       "      <td>C553264065</td>\n",
       "      <td>0.0</td>\n",
       "      <td>0.0</td>\n",
       "      <td>1</td>\n",
       "      <td>0</td>\n",
       "    </tr>\n",
       "    <tr>\n",
       "      <th>3</th>\n",
       "      <td>1</td>\n",
       "      <td>CASH_OUT</td>\n",
       "      <td>181.00</td>\n",
       "      <td>C840083671</td>\n",
       "      <td>181.0</td>\n",
       "      <td>0.00</td>\n",
       "      <td>C38997010</td>\n",
       "      <td>21182.0</td>\n",
       "      <td>0.0</td>\n",
       "      <td>1</td>\n",
       "      <td>0</td>\n",
       "    </tr>\n",
       "    <tr>\n",
       "      <th>4</th>\n",
       "      <td>1</td>\n",
       "      <td>PAYMENT</td>\n",
       "      <td>11668.14</td>\n",
       "      <td>C2048537720</td>\n",
       "      <td>41554.0</td>\n",
       "      <td>29885.86</td>\n",
       "      <td>M1230701703</td>\n",
       "      <td>0.0</td>\n",
       "      <td>0.0</td>\n",
       "      <td>0</td>\n",
       "      <td>0</td>\n",
       "    </tr>\n",
       "  </tbody>\n",
       "</table>\n",
       "</div>"
      ],
      "text/plain": [
       "   step      type    amount     nameOrig  oldbalanceOrg  newbalanceOrig  \\\n",
       "0     1   PAYMENT   9839.64  C1231006815       170136.0       160296.36   \n",
       "1     1   PAYMENT   1864.28  C1666544295        21249.0        19384.72   \n",
       "2     1  TRANSFER    181.00  C1305486145          181.0            0.00   \n",
       "3     1  CASH_OUT    181.00   C840083671          181.0            0.00   \n",
       "4     1   PAYMENT  11668.14  C2048537720        41554.0        29885.86   \n",
       "\n",
       "      nameDest  oldbalanceDest  newbalanceDest  isFraud  isFlaggedFraud  \n",
       "0  M1979787155             0.0             0.0        0               0  \n",
       "1  M2044282225             0.0             0.0        0               0  \n",
       "2   C553264065             0.0             0.0        1               0  \n",
       "3    C38997010         21182.0             0.0        1               0  \n",
       "4  M1230701703             0.0             0.0        0               0  "
      ]
     },
     "execution_count": 3,
     "metadata": {},
     "output_type": "execute_result"
    }
   ],
   "source": [
    "df.head()"
   ]
  },
  {
   "cell_type": "code",
   "execution_count": 4,
   "id": "37f2b777",
   "metadata": {},
   "outputs": [
    {
     "name": "stdout",
     "output_type": "stream",
     "text": [
      "<class 'pandas.core.frame.DataFrame'>\n",
      "RangeIndex: 6362620 entries, 0 to 6362619\n",
      "Data columns (total 11 columns):\n",
      " #   Column          Dtype  \n",
      "---  ------          -----  \n",
      " 0   step            int64  \n",
      " 1   type            object \n",
      " 2   amount          float64\n",
      " 3   nameOrig        object \n",
      " 4   oldbalanceOrg   float64\n",
      " 5   newbalanceOrig  float64\n",
      " 6   nameDest        object \n",
      " 7   oldbalanceDest  float64\n",
      " 8   newbalanceDest  float64\n",
      " 9   isFraud         int64  \n",
      " 10  isFlaggedFraud  int64  \n",
      "dtypes: float64(5), int64(3), object(3)\n",
      "memory usage: 534.0+ MB\n"
     ]
    }
   ],
   "source": [
    "df.info()"
   ]
  },
  {
   "cell_type": "code",
   "execution_count": 5,
   "id": "ff09c5e3",
   "metadata": {},
   "outputs": [
    {
     "data": {
      "text/html": [
       "<div>\n",
       "<style scoped>\n",
       "    .dataframe tbody tr th:only-of-type {\n",
       "        vertical-align: middle;\n",
       "    }\n",
       "\n",
       "    .dataframe tbody tr th {\n",
       "        vertical-align: top;\n",
       "    }\n",
       "\n",
       "    .dataframe thead th {\n",
       "        text-align: right;\n",
       "    }\n",
       "</style>\n",
       "<table border=\"1\" class=\"dataframe\">\n",
       "  <thead>\n",
       "    <tr style=\"text-align: right;\">\n",
       "      <th></th>\n",
       "      <th>step</th>\n",
       "      <th>amount</th>\n",
       "      <th>oldbalanceOrg</th>\n",
       "      <th>newbalanceOrig</th>\n",
       "      <th>oldbalanceDest</th>\n",
       "      <th>newbalanceDest</th>\n",
       "      <th>isFraud</th>\n",
       "      <th>isFlaggedFraud</th>\n",
       "    </tr>\n",
       "  </thead>\n",
       "  <tbody>\n",
       "    <tr>\n",
       "      <th>count</th>\n",
       "      <td>6.362620e+06</td>\n",
       "      <td>6.362620e+06</td>\n",
       "      <td>6.362620e+06</td>\n",
       "      <td>6.362620e+06</td>\n",
       "      <td>6.362620e+06</td>\n",
       "      <td>6.362620e+06</td>\n",
       "      <td>6.362620e+06</td>\n",
       "      <td>6.362620e+06</td>\n",
       "    </tr>\n",
       "    <tr>\n",
       "      <th>mean</th>\n",
       "      <td>2.433972e+02</td>\n",
       "      <td>1.798619e+05</td>\n",
       "      <td>8.338831e+05</td>\n",
       "      <td>8.551137e+05</td>\n",
       "      <td>1.100702e+06</td>\n",
       "      <td>1.224996e+06</td>\n",
       "      <td>1.290820e-03</td>\n",
       "      <td>2.514687e-06</td>\n",
       "    </tr>\n",
       "    <tr>\n",
       "      <th>std</th>\n",
       "      <td>1.423320e+02</td>\n",
       "      <td>6.038582e+05</td>\n",
       "      <td>2.888243e+06</td>\n",
       "      <td>2.924049e+06</td>\n",
       "      <td>3.399180e+06</td>\n",
       "      <td>3.674129e+06</td>\n",
       "      <td>3.590480e-02</td>\n",
       "      <td>1.585775e-03</td>\n",
       "    </tr>\n",
       "    <tr>\n",
       "      <th>min</th>\n",
       "      <td>1.000000e+00</td>\n",
       "      <td>0.000000e+00</td>\n",
       "      <td>0.000000e+00</td>\n",
       "      <td>0.000000e+00</td>\n",
       "      <td>0.000000e+00</td>\n",
       "      <td>0.000000e+00</td>\n",
       "      <td>0.000000e+00</td>\n",
       "      <td>0.000000e+00</td>\n",
       "    </tr>\n",
       "    <tr>\n",
       "      <th>25%</th>\n",
       "      <td>1.560000e+02</td>\n",
       "      <td>1.338957e+04</td>\n",
       "      <td>0.000000e+00</td>\n",
       "      <td>0.000000e+00</td>\n",
       "      <td>0.000000e+00</td>\n",
       "      <td>0.000000e+00</td>\n",
       "      <td>0.000000e+00</td>\n",
       "      <td>0.000000e+00</td>\n",
       "    </tr>\n",
       "    <tr>\n",
       "      <th>50%</th>\n",
       "      <td>2.390000e+02</td>\n",
       "      <td>7.487194e+04</td>\n",
       "      <td>1.420800e+04</td>\n",
       "      <td>0.000000e+00</td>\n",
       "      <td>1.327057e+05</td>\n",
       "      <td>2.146614e+05</td>\n",
       "      <td>0.000000e+00</td>\n",
       "      <td>0.000000e+00</td>\n",
       "    </tr>\n",
       "    <tr>\n",
       "      <th>75%</th>\n",
       "      <td>3.350000e+02</td>\n",
       "      <td>2.087215e+05</td>\n",
       "      <td>1.073152e+05</td>\n",
       "      <td>1.442584e+05</td>\n",
       "      <td>9.430367e+05</td>\n",
       "      <td>1.111909e+06</td>\n",
       "      <td>0.000000e+00</td>\n",
       "      <td>0.000000e+00</td>\n",
       "    </tr>\n",
       "    <tr>\n",
       "      <th>max</th>\n",
       "      <td>7.430000e+02</td>\n",
       "      <td>9.244552e+07</td>\n",
       "      <td>5.958504e+07</td>\n",
       "      <td>4.958504e+07</td>\n",
       "      <td>3.560159e+08</td>\n",
       "      <td>3.561793e+08</td>\n",
       "      <td>1.000000e+00</td>\n",
       "      <td>1.000000e+00</td>\n",
       "    </tr>\n",
       "  </tbody>\n",
       "</table>\n",
       "</div>"
      ],
      "text/plain": [
       "               step        amount  oldbalanceOrg  newbalanceOrig  \\\n",
       "count  6.362620e+06  6.362620e+06   6.362620e+06    6.362620e+06   \n",
       "mean   2.433972e+02  1.798619e+05   8.338831e+05    8.551137e+05   \n",
       "std    1.423320e+02  6.038582e+05   2.888243e+06    2.924049e+06   \n",
       "min    1.000000e+00  0.000000e+00   0.000000e+00    0.000000e+00   \n",
       "25%    1.560000e+02  1.338957e+04   0.000000e+00    0.000000e+00   \n",
       "50%    2.390000e+02  7.487194e+04   1.420800e+04    0.000000e+00   \n",
       "75%    3.350000e+02  2.087215e+05   1.073152e+05    1.442584e+05   \n",
       "max    7.430000e+02  9.244552e+07   5.958504e+07    4.958504e+07   \n",
       "\n",
       "       oldbalanceDest  newbalanceDest       isFraud  isFlaggedFraud  \n",
       "count    6.362620e+06    6.362620e+06  6.362620e+06    6.362620e+06  \n",
       "mean     1.100702e+06    1.224996e+06  1.290820e-03    2.514687e-06  \n",
       "std      3.399180e+06    3.674129e+06  3.590480e-02    1.585775e-03  \n",
       "min      0.000000e+00    0.000000e+00  0.000000e+00    0.000000e+00  \n",
       "25%      0.000000e+00    0.000000e+00  0.000000e+00    0.000000e+00  \n",
       "50%      1.327057e+05    2.146614e+05  0.000000e+00    0.000000e+00  \n",
       "75%      9.430367e+05    1.111909e+06  0.000000e+00    0.000000e+00  \n",
       "max      3.560159e+08    3.561793e+08  1.000000e+00    1.000000e+00  "
      ]
     },
     "execution_count": 5,
     "metadata": {},
     "output_type": "execute_result"
    }
   ],
   "source": [
    "df.describe()"
   ]
  },
  {
   "cell_type": "code",
   "execution_count": 6,
   "id": "bd8584b0",
   "metadata": {},
   "outputs": [
    {
     "data": {
      "text/plain": [
       "(6362620, 11)"
      ]
     },
     "execution_count": 6,
     "metadata": {},
     "output_type": "execute_result"
    }
   ],
   "source": [
    "df.shape"
   ]
  },
  {
   "cell_type": "code",
   "execution_count": 7,
   "id": "bdf75207",
   "metadata": {},
   "outputs": [
    {
     "data": {
      "text/plain": [
       "step              0\n",
       "type              0\n",
       "amount            0\n",
       "nameOrig          0\n",
       "oldbalanceOrg     0\n",
       "newbalanceOrig    0\n",
       "nameDest          0\n",
       "oldbalanceDest    0\n",
       "newbalanceDest    0\n",
       "isFraud           0\n",
       "isFlaggedFraud    0\n",
       "dtype: int64"
      ]
     },
     "execution_count": 7,
     "metadata": {},
     "output_type": "execute_result"
    }
   ],
   "source": [
    "df.isnull().sum()"
   ]
  },
  {
   "cell_type": "code",
   "execution_count": 8,
   "id": "a8c04a24",
   "metadata": {},
   "outputs": [
    {
     "data": {
      "image/png": "[encoded data removed]",
      "text/plain": [
       "<Figure size 432x288 with 1 Axes>"
      ]
     },
     "metadata": {
      "needs_background": "light"
     },
     "output_type": "display_data"
    }
   ],
   "source": [
    "sns.countplot(y = df['isFraud'], palette='cool');"
   ]
  },
  {
   "cell_type": "markdown",
   "id": "d0f8e723",
   "metadata": {},
   "source": [
    "Target Variable is highly Imbalanced."
   ]
  },
  {
   "cell_type": "code",
   "execution_count": 9,
   "id": "eaa090cf",
   "metadata": {},
   "outputs": [
    {
     "data": {
      "text/plain": [
       "<AxesSubplot:xlabel='isFraud', ylabel='isFlaggedFraud'>"
      ]
     },
     "execution_count": 9,
     "metadata": {},
     "output_type": "execute_result"
    },
    {
     "data": {
      "image/png": "[encoded data removed]",
      "text/plain": [
       "<Figure size 1080x2160 with 8 Axes>"
      ]
     },
     "metadata": {
      "needs_background": "light"
     },
     "output_type": "display_data"
    }
   ],
   "source": [
    "fig,ax=plt.subplots(4,2,figsize=(15,30))\n",
    "sns.barplot(x=df.isFraud,y=df['amount'],ax=ax[0][0])\n",
    "sns.barplot(x=df.isFraud,y=df['oldbalanceOrg'],ax=ax[0][1])\n",
    "sns.barplot(x=df.isFraud,y=df['newbalanceOrig'],ax=ax[1][0])\n",
    "sns.barplot(x=df.isFraud,y=df['oldbalanceDest'],ax=ax[1][1])\n",
    "sns.barplot(x=df.isFraud,y=df['newbalanceDest'],ax=ax[2][0])\n",
    "sns.barplot(x=df.isFraud,y=df['isFlaggedFraud'],ax=ax[2][1])"
   ]
  },
  {
   "cell_type": "markdown",
   "id": "9449a77a",
   "metadata": {},
   "source": [
    "## Outliers"
   ]
  },
  {
   "cell_type": "code",
   "execution_count": 10,
   "id": "998b559e",
   "metadata": {},
   "outputs": [
    {
     "data": {
      "text/plain": [
       "<AxesSubplot:xlabel='amount'>"
      ]
     },
     "execution_count": 10,
     "metadata": {},
     "output_type": "execute_result"
    },
    {
     "data": {
      "image/png": "[encoded data removed]",
      "text/plain": [
       "<Figure size 432x288 with 1 Axes>"
      ]
     },
     "metadata": {
      "needs_background": "light"
     },
     "output_type": "display_data"
    }
   ],
   "source": [
    "sns.boxplot(x=df[\"amount\"])"
   ]
  },
  {
   "cell_type": "code",
   "execution_count": 11,
   "id": "87c4060e",
   "metadata": {},
   "outputs": [
    {
     "name": "stderr",
     "output_type": "stream",
     "text": [
      "c:\\python\\lib\\site-packages\\seaborn\\_decorators.py:36: FutureWarning: Pass the following variable as a keyword arg: x. From version 0.12, the only valid positional argument will be `data`, and passing other arguments without an explicit keyword will result in an error or misinterpretation.\n",
      "  warnings.warn(\n"
     ]
    },
    {
     "data": {
      "text/plain": [
       "<AxesSubplot:xlabel='type', ylabel='count'>"
      ]
     },
     "execution_count": 11,
     "metadata": {},
     "output_type": "execute_result"
    },
    {
     "data": {
      "image/png": "[encoded data removed]",
      "text/plain": [
       "<Figure size 432x288 with 1 Axes>"
      ]
     },
     "metadata": {
      "needs_background": "light"
     },
     "output_type": "display_data"
    }
   ],
   "source": [
    "sns.countplot(df['type'])"
   ]
  },
  {
   "cell_type": "code",
   "execution_count": 12,
   "id": "2a9a69af",
   "metadata": {},
   "outputs": [
    {
     "name": "stdout",
     "output_type": "stream",
     "text": [
      "Total Unique Values in nameOrig 6353307\n"
     ]
    }
   ],
   "source": [
    "print(\"Total Unique Values in nameOrig\", df['nameOrig'].nunique())"
   ]
  },
  {
   "cell_type": "code",
   "execution_count": 13,
   "id": "ee8f99b7",
   "metadata": {},
   "outputs": [
    {
     "name": "stdout",
     "output_type": "stream",
     "text": [
      "Total Unique Values in nameDest 2722362\n"
     ]
    }
   ],
   "source": [
    "print(\"Total Unique Values in nameDest\", df['nameDest'].nunique())"
   ]
  },
  {
   "cell_type": "markdown",
   "id": "a5750caa",
   "metadata": {},
   "source": [
    "### Observations:-\n",
    "1.Amount Column has Outliers\n",
    "\n",
    "2.Debit type transaction count is very small\n",
    "\n",
    "3.Total Unique values in nameOrig is 6353307\n",
    "\n",
    "4.Total Unique values in nameDest is 2722362"
   ]
  },
  {
   "cell_type": "markdown",
   "id": "81114a13",
   "metadata": {},
   "source": [
    "## Multi-Collinearity Checking"
   ]
  },
  {
   "cell_type": "code",
   "execution_count": 14,
   "id": "5f9f7df8",
   "metadata": {},
   "outputs": [
    {
     "name": "stdout",
     "output_type": "stream",
     "text": [
      "Requirement already satisfied: statsmodels in c:\\python\\lib\\site-packages (0.13.2)\n",
      "Requirement already satisfied: numpy>=1.17 in c:\\python\\lib\\site-packages (from statsmodels) (1.20.3)\n",
      "Requirement already satisfied: patsy>=0.5.2 in c:\\python\\lib\\site-packages (from statsmodels) (0.5.2)\n",
      "Requirement already satisfied: packaging>=21.3 in c:\\python\\lib\\site-packages (from statsmodels) (21.3)\n",
      "Requirement already satisfied: pandas>=0.25 in c:\\python\\lib\\site-packages (from statsmodels) (1.3.0)\n",
      "Requirement already satisfied: scipy>=1.3 in c:\\python\\lib\\site-packages (from statsmodels) (1.7.0)\n",
      "Requirement already satisfied: pyparsing!=3.0.5,>=2.0.2 in c:\\python\\lib\\site-packages (from packaging>=21.3->statsmodels) (2.4.7)\n",
      "Requirement already satisfied: python-dateutil>=2.7.3 in c:\\python\\lib\\site-packages (from pandas>=0.25->statsmodels) (2.8.1)\n",
      "Requirement already satisfied: pytz>=2017.3 in c:\\python\\lib\\site-packages (from pandas>=0.25->statsmodels) (2021.1)\n",
      "Requirement already satisfied: six in c:\\python\\lib\\site-packages (from patsy>=0.5.2->statsmodels) (1.16.0)\n",
      "Note: you may need to restart the kernel to use updated packages.\n"
     ]
    },
    {
     "name": "stderr",
     "output_type": "stream",
     "text": [
      "WARNING: You are using pip version 22.0.3; however, version 22.1 is available.\n",
      "You should consider upgrading via the 'c:\\python\\python.exe -m pip install --upgrade pip' command.\n"
     ]
    }
   ],
   "source": [
    "pip install statsmodels"
   ]
  },
  {
   "cell_type": "code",
   "execution_count": 15,
   "id": "c89f9a9b",
   "metadata": {},
   "outputs": [
    {
     "name": "stdout",
     "output_type": "stream",
     "text": [
      "          feature         VIF\n",
      "0            step    1.191094\n",
      "1          amount    4.078952\n",
      "2   oldbalanceOrg  544.053103\n",
      "3  newbalanceOrig  546.346008\n",
      "4  oldbalanceDest   72.895522\n",
      "5  newbalanceDest   84.584619\n",
      "6         isFraud    1.188386\n",
      "7  isFlaggedFraud    1.002546\n"
     ]
    }
   ],
   "source": [
    "from statsmodels.stats.outliers_influence import variance_inflation_factor\n",
    "\n",
    "data_without_text=pd.DataFrame({\"step\":df.step,\n",
    "                                \"amount\":df.amount,\n",
    "                               \"oldbalanceOrg\":df.oldbalanceOrg,\n",
    "                               \"newbalanceOrig\":df.newbalanceOrig,\n",
    "                               \"oldbalanceDest\":df.oldbalanceDest,\n",
    "                               \"newbalanceDest\":df.newbalanceDest,\n",
    "                               \"isFraud\":df.isFraud,\n",
    "                               \"isFlaggedFraud\":df.isFlaggedFraud})\n",
    "vif_data = pd.DataFrame()\n",
    "vif_data[\"feature\"] = data_without_text.columns\n",
    "  \n",
    "vif_data[\"VIF\"] = [variance_inflation_factor(data_without_text.values, i)\n",
    "                          for i in range(len(data_without_text.columns))]\n",
    "  \n",
    "print(vif_data)"
   ]
  },
  {
   "cell_type": "markdown",
   "id": "bc0efd9e",
   "metadata": {},
   "source": [
    "## Observations\n",
    "#### Issue:\n",
    "\n",
    "1.Here oldbalanceorg and newbalanceorig has high vif so these are creating multi-collinearity\n",
    "\n",
    "2.oldbalanceDest and newbalanceDest also has multi-collinearity.\n",
    "\n",
    "#### Prevention:\n",
    "\n",
    "1.we will remove oldbalnceorg and newbalaceorig and and add the difference of column in the data set.\n",
    "\n",
    "2.do the same thing for this also"
   ]
  },
  {
   "cell_type": "code",
   "execution_count": 16,
   "id": "130aa561",
   "metadata": {},
   "outputs": [
    {
     "name": "stdout",
     "output_type": "stream",
     "text": [
      "Requirement already satisfied: tqdm in c:\\python\\lib\\site-packages (4.64.0)\n",
      "Requirement already satisfied: colorama in c:\\python\\lib\\site-packages (from tqdm) (0.4.4)\n",
      "Note: you may need to restart the kernel to use updated packages.\n"
     ]
    },
    {
     "name": "stderr",
     "output_type": "stream",
     "text": [
      "WARNING: You are using pip version 22.0.3; however, version 22.1 is available.\n",
      "You should consider upgrading via the 'c:\\python\\python.exe -m pip install --upgrade pip' command.\n"
     ]
    }
   ],
   "source": [
    "pip install tqdm"
   ]
  },
  {
   "cell_type": "code",
   "execution_count": 17,
   "id": "a4655a5e",
   "metadata": {},
   "outputs": [],
   "source": [
    "from tqdm import tqdm"
   ]
  },
  {
   "cell_type": "code",
   "execution_count": 18,
   "id": "cb85924c",
   "metadata": {},
   "outputs": [
    {
     "name": "stderr",
     "output_type": "stream",
     "text": [
      "100%|████████████████████████████████████████████████████████████████████| 6362620/6362620 [00:27<00:00, 233076.99it/s]\n"
     ]
    }
   ],
   "source": [
    "old_balance=df[\"oldbalanceOrg\"]\n",
    "new_balance=df[\"newbalanceOrig\"]\n",
    "bal_change=[] #if balace deduct then 1 else 0\n",
    "for i in tqdm(range(len(old_balance))):\n",
    "  diff=new_balance[i]-old_balance[i]\n",
    "  if diff>0:\n",
    "      bal_change.append(0)\n",
    "  else:\n",
    "      bal_change.append(1)\n",
    "        "
   ]
  },
  {
   "cell_type": "code",
   "execution_count": 19,
   "id": "f5ce3e6c",
   "metadata": {},
   "outputs": [
    {
     "name": "stderr",
     "output_type": "stream",
     "text": [
      "100%|████████████████████████████████████████████████████████████████████| 6362620/6362620 [00:28<00:00, 226910.57it/s]\n"
     ]
    }
   ],
   "source": [
    "dest_old=df[\"oldbalanceDest\"]\n",
    "dest_new=df[\"newbalanceDest\"]\n",
    "dest_bal_change=[]\n",
    "dest_bal=[]\n",
    "for i in tqdm(range(len(dest_old))):\n",
    "    diff=dest_new[i]-dest_old[i]\n",
    "    if diff>0:\n",
    "        dest_bal_change.append(0)\n",
    "        dest_bal.append(abs(diff))\n",
    "    else:\n",
    "        dest_bal_change.append(1)\n",
    "        dest_bal.append(abs(diff))\n"
   ]
  },
  {
   "cell_type": "code",
   "execution_count": 20,
   "id": "5fa64705",
   "metadata": {},
   "outputs": [],
   "source": [
    "df[\"source_bal_change\"]=bal_change\n",
    "df[\"destination\"]=dest_bal\n",
    "df[\"dest_bal_chnage\"]=dest_bal_change"
   ]
  },
  {
   "cell_type": "code",
   "execution_count": 21,
   "id": "4d69d749",
   "metadata": {},
   "outputs": [],
   "source": [
    "df.drop([\"oldbalanceOrg\",\"newbalanceOrig\",\"oldbalanceDest\",\"newbalanceDest\"],axis=1,inplace=True)"
   ]
  },
  {
   "cell_type": "code",
   "execution_count": 22,
   "id": "a8b1d342",
   "metadata": {},
   "outputs": [
    {
     "data": {
      "text/html": [
       "<div>\n",
       "<style scoped>\n",
       "    .dataframe tbody tr th:only-of-type {\n",
       "        vertical-align: middle;\n",
       "    }\n",
       "\n",
       "    .dataframe tbody tr th {\n",
       "        vertical-align: top;\n",
       "    }\n",
       "\n",
       "    .dataframe thead th {\n",
       "        text-align: right;\n",
       "    }\n",
       "</style>\n",
       "<table border=\"1\" class=\"dataframe\">\n",
       "  <thead>\n",
       "    <tr style=\"text-align: right;\">\n",
       "      <th></th>\n",
       "      <th>step</th>\n",
       "      <th>type</th>\n",
       "      <th>amount</th>\n",
       "      <th>nameOrig</th>\n",
       "      <th>nameDest</th>\n",
       "      <th>isFraud</th>\n",
       "      <th>isFlaggedFraud</th>\n",
       "      <th>source_bal_change</th>\n",
       "      <th>destination</th>\n",
       "      <th>dest_bal_chnage</th>\n",
       "    </tr>\n",
       "  </thead>\n",
       "  <tbody>\n",
       "    <tr>\n",
       "      <th>0</th>\n",
       "      <td>1</td>\n",
       "      <td>PAYMENT</td>\n",
       "      <td>9839.64</td>\n",
       "      <td>C1231006815</td>\n",
       "      <td>M1979787155</td>\n",
       "      <td>0</td>\n",
       "      <td>0</td>\n",
       "      <td>1</td>\n",
       "      <td>0.0</td>\n",
       "      <td>1</td>\n",
       "    </tr>\n",
       "    <tr>\n",
       "      <th>1</th>\n",
       "      <td>1</td>\n",
       "      <td>PAYMENT</td>\n",
       "      <td>1864.28</td>\n",
       "      <td>C1666544295</td>\n",
       "      <td>M2044282225</td>\n",
       "      <td>0</td>\n",
       "      <td>0</td>\n",
       "      <td>1</td>\n",
       "      <td>0.0</td>\n",
       "      <td>1</td>\n",
       "    </tr>\n",
       "  </tbody>\n",
       "</table>\n",
       "</div>"
      ],
      "text/plain": [
       "   step     type   amount     nameOrig     nameDest  isFraud  isFlaggedFraud  \\\n",
       "0     1  PAYMENT  9839.64  C1231006815  M1979787155        0               0   \n",
       "1     1  PAYMENT  1864.28  C1666544295  M2044282225        0               0   \n",
       "\n",
       "   source_bal_change  destination  dest_bal_chnage  \n",
       "0                  1          0.0                1  \n",
       "1                  1          0.0                1  "
      ]
     },
     "execution_count": 22,
     "metadata": {},
     "output_type": "execute_result"
    }
   ],
   "source": [
    "df.head(2)"
   ]
  },
  {
   "cell_type": "markdown",
   "id": "4a4bdf36",
   "metadata": {},
   "source": [
    "## Checking Colinearity on Data after Featurization"
   ]
  },
  {
   "cell_type": "markdown",
   "id": "6e47bf07",
   "metadata": {},
   "source": [
    "#### Note:-There are too many data in data set(6,362,620). It takes too many time to process by my laptop. So I reduced them to 60,000."
   ]
  },
  {
   "cell_type": "code",
   "execution_count": 23,
   "id": "732b163b",
   "metadata": {},
   "outputs": [],
   "source": [
    "df1=df.sample(n=60000, random_state=0)"
   ]
  },
  {
   "cell_type": "code",
   "execution_count": 24,
   "id": "e3d54e10",
   "metadata": {},
   "outputs": [],
   "source": [
    "result=df1[\"isFraud\"]\n",
    "df1.drop(\"isFraud\",axis=1,inplace=True)"
   ]
  },
  {
   "cell_type": "code",
   "execution_count": 25,
   "id": "b25f8b41",
   "metadata": {},
   "outputs": [
    {
     "name": "stdout",
     "output_type": "stream",
     "text": [
      "76\n",
      "59924\n"
     ]
    }
   ],
   "source": [
    "True_fraud=np.sum(result==1)\n",
    "False_fraud=np.sum(result==0)\n",
    "print(True_fraud)\n",
    "print(False_fraud)"
   ]
  },
  {
   "cell_type": "markdown",
   "id": "f3603a75",
   "metadata": {},
   "source": [
    "## Observation\n",
    "1.we can clealy see that here the data is imbalaced\n",
    "\n",
    "2.We will do downsampling on the data basically here the size of True_fraud and False_fraud will be same\n",
    "\n",
    "3.But Firsly we will check with imabalance Dat"
   ]
  },
  {
   "cell_type": "markdown",
   "id": "fcf0ae32",
   "metadata": {},
   "source": [
    "## Working With Imbalanced Data"
   ]
  },
  {
   "cell_type": "code",
   "execution_count": 26,
   "id": "948370b0",
   "metadata": {},
   "outputs": [],
   "source": [
    "from sklearn.model_selection import train_test_split\n",
    "x_train,x_test,y_train,y_test=train_test_split(df1,result,test_size=0.20,random_state=42)"
   ]
  },
  {
   "cell_type": "code",
   "execution_count": 27,
   "id": "1710c947",
   "metadata": {},
   "outputs": [
    {
     "name": "stdout",
     "output_type": "stream",
     "text": [
      "(48000, 9)\n",
      "(12000, 9)\n",
      "(48000,)\n",
      "(12000,)\n"
     ]
    }
   ],
   "source": [
    "print(x_train.shape)\n",
    "print(x_test.shape)\n",
    "print(y_train.shape)\n",
    "print(y_test.shape)"
   ]
  },
  {
   "cell_type": "markdown",
   "id": "61feed14",
   "metadata": {},
   "source": [
    "## Categorical Data"
   ]
  },
  {
   "cell_type": "code",
   "execution_count": 28,
   "id": "28e68368",
   "metadata": {},
   "outputs": [],
   "source": [
    "from sklearn import preprocessing   #LabelEncoder\n",
    "le = preprocessing.LabelEncoder()\n",
    "le.fit(df1[\"type\"])\n",
    "train_type=le.transform(x_train[\"type\"])\n",
    "test_type=le.transform(x_test[\"type\"])"
   ]
  },
  {
   "cell_type": "code",
   "execution_count": 29,
   "id": "c917c70d",
   "metadata": {},
   "outputs": [],
   "source": [
    "le2=preprocessing.LabelEncoder()\n",
    "le2.fit(df1[\"nameOrig\"])\n",
    "train_nameOrig=le2.transform(x_train[\"nameOrig\"])\n",
    "test_nameOrig=le2.transform(x_test[\"nameOrig\"])"
   ]
  },
  {
   "cell_type": "code",
   "execution_count": 30,
   "id": "da9838c5",
   "metadata": {},
   "outputs": [],
   "source": [
    "le3=preprocessing.LabelEncoder()\n",
    "le3.fit(df1[\"nameDest\"])\n",
    "train_nameDest=le3.transform(x_train[\"nameDest\"])\n",
    "test_nameDest=le3.transform(x_test[\"nameDest\"])"
   ]
  },
  {
   "cell_type": "code",
   "execution_count": 31,
   "id": "52487a1a",
   "metadata": {},
   "outputs": [],
   "source": [
    "x_train.drop([\"type\",\"nameOrig\",\"nameDest\"],axis=1,inplace=True)"
   ]
  },
  {
   "cell_type": "code",
   "execution_count": 32,
   "id": "7ce8a1e4",
   "metadata": {},
   "outputs": [],
   "source": [
    "x_train[\"type\"]=train_type\n",
    "x_train[\"nameOrig\"]=train_nameOrig\n",
    "x_train[\"nameDest\"]=train_nameDest"
   ]
  },
  {
   "cell_type": "code",
   "execution_count": 33,
   "id": "58d878d0",
   "metadata": {},
   "outputs": [
    {
     "data": {
      "text/html": [
       "<div>\n",
       "<style scoped>\n",
       "    .dataframe tbody tr th:only-of-type {\n",
       "        vertical-align: middle;\n",
       "    }\n",
       "\n",
       "    .dataframe tbody tr th {\n",
       "        vertical-align: top;\n",
       "    }\n",
       "\n",
       "    .dataframe thead th {\n",
       "        text-align: right;\n",
       "    }\n",
       "</style>\n",
       "<table border=\"1\" class=\"dataframe\">\n",
       "  <thead>\n",
       "    <tr style=\"text-align: right;\">\n",
       "      <th></th>\n",
       "      <th>step</th>\n",
       "      <th>amount</th>\n",
       "      <th>isFlaggedFraud</th>\n",
       "      <th>source_bal_change</th>\n",
       "      <th>destination</th>\n",
       "      <th>dest_bal_chnage</th>\n",
       "      <th>type</th>\n",
       "      <th>nameOrig</th>\n",
       "      <th>nameDest</th>\n",
       "    </tr>\n",
       "  </thead>\n",
       "  <tbody>\n",
       "    <tr>\n",
       "      <th>5386925</th>\n",
       "      <td>376</td>\n",
       "      <td>231571.74</td>\n",
       "      <td>0</td>\n",
       "      <td>0</td>\n",
       "      <td>231571.74</td>\n",
       "      <td>1</td>\n",
       "      <td>0</td>\n",
       "      <td>21371</td>\n",
       "      <td>12274</td>\n",
       "    </tr>\n",
       "    <tr>\n",
       "      <th>2577737</th>\n",
       "      <td>207</td>\n",
       "      <td>980855.07</td>\n",
       "      <td>0</td>\n",
       "      <td>1</td>\n",
       "      <td>980855.07</td>\n",
       "      <td>0</td>\n",
       "      <td>4</td>\n",
       "      <td>57886</td>\n",
       "      <td>27016</td>\n",
       "    </tr>\n",
       "  </tbody>\n",
       "</table>\n",
       "</div>"
      ],
      "text/plain": [
       "         step     amount  isFlaggedFraud  source_bal_change  destination  \\\n",
       "5386925   376  231571.74               0                  0    231571.74   \n",
       "2577737   207  980855.07               0                  1    980855.07   \n",
       "\n",
       "         dest_bal_chnage  type  nameOrig  nameDest  \n",
       "5386925                1     0     21371     12274  \n",
       "2577737                0     4     57886     27016  "
      ]
     },
     "execution_count": 33,
     "metadata": {},
     "output_type": "execute_result"
    }
   ],
   "source": [
    "x_train.head(2)"
   ]
  },
  {
   "cell_type": "code",
   "execution_count": 34,
   "id": "4ed1a404",
   "metadata": {},
   "outputs": [],
   "source": [
    "x_test.drop([\"type\",\"nameOrig\",\"nameDest\"],axis=1,inplace=True)"
   ]
  },
  {
   "cell_type": "code",
   "execution_count": 35,
   "id": "5a8cd061",
   "metadata": {},
   "outputs": [],
   "source": [
    "x_test[\"type\"]=test_type\n",
    "x_test[\"nameOrig\"]=test_nameOrig\n",
    "x_test[\"nameDest\"]=test_nameDest"
   ]
  },
  {
   "cell_type": "code",
   "execution_count": 36,
   "id": "63fd3bf8",
   "metadata": {},
   "outputs": [
    {
     "data": {
      "text/html": [
       "<div>\n",
       "<style scoped>\n",
       "    .dataframe tbody tr th:only-of-type {\n",
       "        vertical-align: middle;\n",
       "    }\n",
       "\n",
       "    .dataframe tbody tr th {\n",
       "        vertical-align: top;\n",
       "    }\n",
       "\n",
       "    .dataframe thead th {\n",
       "        text-align: right;\n",
       "    }\n",
       "</style>\n",
       "<table border=\"1\" class=\"dataframe\">\n",
       "  <thead>\n",
       "    <tr style=\"text-align: right;\">\n",
       "      <th></th>\n",
       "      <th>step</th>\n",
       "      <th>amount</th>\n",
       "      <th>isFlaggedFraud</th>\n",
       "      <th>source_bal_change</th>\n",
       "      <th>destination</th>\n",
       "      <th>dest_bal_chnage</th>\n",
       "      <th>type</th>\n",
       "      <th>nameOrig</th>\n",
       "      <th>nameDest</th>\n",
       "    </tr>\n",
       "  </thead>\n",
       "  <tbody>\n",
       "    <tr>\n",
       "      <th>3729451</th>\n",
       "      <td>278</td>\n",
       "      <td>5456.26</td>\n",
       "      <td>0</td>\n",
       "      <td>1</td>\n",
       "      <td>0.00</td>\n",
       "      <td>1</td>\n",
       "      <td>3</td>\n",
       "      <td>39493</td>\n",
       "      <td>39119</td>\n",
       "    </tr>\n",
       "    <tr>\n",
       "      <th>461788</th>\n",
       "      <td>19</td>\n",
       "      <td>8480.40</td>\n",
       "      <td>0</td>\n",
       "      <td>0</td>\n",
       "      <td>353289.93</td>\n",
       "      <td>1</td>\n",
       "      <td>0</td>\n",
       "      <td>27007</td>\n",
       "      <td>20873</td>\n",
       "    </tr>\n",
       "  </tbody>\n",
       "</table>\n",
       "</div>"
      ],
      "text/plain": [
       "         step   amount  isFlaggedFraud  source_bal_change  destination  \\\n",
       "3729451   278  5456.26               0                  1         0.00   \n",
       "461788     19  8480.40               0                  0    353289.93   \n",
       "\n",
       "         dest_bal_chnage  type  nameOrig  nameDest  \n",
       "3729451                1     3     39493     39119  \n",
       "461788                 1     0     27007     20873  "
      ]
     },
     "execution_count": 36,
     "metadata": {},
     "output_type": "execute_result"
    }
   ],
   "source": [
    "x_test.head(2)"
   ]
  },
  {
   "cell_type": "markdown",
   "id": "23e6140a",
   "metadata": {},
   "source": [
    "### Here i am going to use Xgboost for train the model\n",
    "Beacuse:\n",
    "\n",
    "1.Feature scaling is not important in xgboost as here amount can be in any currency\n",
    "\n",
    "2.in above we see that amount Data has very much outliers and xgboost is not influenced by outliers"
   ]
  },
  {
   "cell_type": "markdown",
   "id": "18adfc08",
   "metadata": {},
   "source": [
    "## HyperParameter Tuning on xgboost"
   ]
  },
  {
   "cell_type": "code",
   "execution_count": 37,
   "id": "5978bfe6",
   "metadata": {},
   "outputs": [
    {
     "name": "stdout",
     "output_type": "stream",
     "text": [
      "Requirement already satisfied: xgboost in c:\\python\\lib\\site-packages (1.6.1)\n",
      "Requirement already satisfied: scipy in c:\\python\\lib\\site-packages (from xgboost) (1.7.0)\n",
      "Requirement already satisfied: numpy in c:\\python\\lib\\site-packages (from xgboost) (1.20.3)\n",
      "Note: you may need to restart the kernel to use updated packages.\n"
     ]
    },
    {
     "name": "stderr",
     "output_type": "stream",
     "text": [
      "WARNING: You are using pip version 22.0.3; however, version 22.1 is available.\n",
      "You should consider upgrading via the 'c:\\python\\python.exe -m pip install --upgrade pip' command.\n"
     ]
    }
   ],
   "source": [
    "pip install xgboost"
   ]
  },
  {
   "cell_type": "code",
   "execution_count": 38,
   "id": "e6ea097f",
   "metadata": {},
   "outputs": [],
   "source": [
    "import xgboost as xgb\n",
    "xgb_model  = xgb.XGBClassifier()"
   ]
  },
  {
   "cell_type": "code",
   "execution_count": 39,
   "id": "1e5f23ec",
   "metadata": {},
   "outputs": [
    {
     "data": {
      "text/plain": [
       "GridSearchCV(cv=3,\n",
       "             estimator=XGBClassifier(base_score=None, booster=None,\n",
       "                                     callbacks=None, colsample_bylevel=None,\n",
       "                                     colsample_bynode=None,\n",
       "                                     colsample_bytree=None,\n",
       "                                     early_stopping_rounds=None,\n",
       "                                     enable_categorical=False, eval_metric=None,\n",
       "                                     gamma=None, gpu_id=None, grow_policy=None,\n",
       "                                     importance_type=None,\n",
       "                                     interaction_constraints=None,\n",
       "                                     learning_rate=None, max_bin=None,\n",
       "                                     max_cat_to_onehot=None,\n",
       "                                     max_delta_step=None, max_depth=None,\n",
       "                                     max_leaves=None, min_child_weight=None,\n",
       "                                     missing=nan, monotone_constraints=None,\n",
       "                                     n_estimators=100, n_jobs=None,\n",
       "                                     num_parallel_tree=None, predictor=None,\n",
       "                                     random_state=None, reg_alpha=None,\n",
       "                                     reg_lambda=None, ...),\n",
       "             n_jobs=-1, param_grid={'max_depth': [1, 2, 3, 4]},\n",
       "             return_train_score=True, scoring='roc_auc')"
      ]
     },
     "execution_count": 39,
     "metadata": {},
     "output_type": "execute_result"
    }
   ],
   "source": [
    "from sklearn.model_selection import GridSearchCV\n",
    "parameters = {\"max_depth\":[1,2,3,4] }\n",
    "clf = GridSearchCV(xgb.XGBClassifier(), parameters, cv=3, scoring='roc_auc',return_train_score=True,n_jobs=-1)\n",
    "clf.fit(x_train,y_train)"
   ]
  },
  {
   "cell_type": "code",
   "execution_count": 40,
   "id": "9eb433f3",
   "metadata": {},
   "outputs": [
    {
     "name": "stdout",
     "output_type": "stream",
     "text": [
      "Best Parameter {'max_depth': 2}\n"
     ]
    },
    {
     "data": {
      "image/png": "[encoded data removed]",
      "text/plain": [
       "<Figure size 432x288 with 1 Axes>"
      ]
     },
     "metadata": {
      "needs_background": "light"
     },
     "output_type": "display_data"
    }
   ],
   "source": [
    "import matplotlib.pyplot as plt\n",
    "max_depth=[1,2,3,4]\n",
    "df=pd.DataFrame.from_dict(clf.cv_results_)\n",
    "train_auc=df['mean_train_score']\n",
    "test_auc=df['mean_test_score']\n",
    "plt.grid()\n",
    "plt.plot(max_depth,train_auc,label=\"Train-Auc\")\n",
    "plt.plot(max_depth,test_auc,label=\"Test-Auc\")\n",
    "plt.legend()\n",
    "plt.title(\"Depth vs Auc\")\n",
    "print(\"Best Parameter\",clf.best_params_)"
   ]
  },
  {
   "cell_type": "markdown",
   "id": "4e2838b7",
   "metadata": {},
   "source": [
    "## Model"
   ]
  },
  {
   "cell_type": "code",
   "execution_count": 41,
   "id": "b5c3c3a9",
   "metadata": {},
   "outputs": [
    {
     "data": {
      "image/png": "[encoded data removed]",
      "text/plain": [
       "<Figure size 576x432 with 1 Axes>"
      ]
     },
     "metadata": {
      "needs_background": "light"
     },
     "output_type": "display_data"
    }
   ],
   "source": [
    "from sklearn.metrics import roc_curve, auc\n",
    "\n",
    "model_set=xgb.XGBClassifier(max_depth=4)\n",
    "model_set.fit(x_train,y_train)\n",
    "y_train_probs = model_set.predict_proba(x_train)[:,1] # converting train and test output into probability\n",
    "y_test_probs= model_set.predict_proba(x_test)[:,1]\n",
    "train_fpr, train_tpr, tr_thresholds = roc_curve(y_train, y_train_probs) # storing values of fpr and tpr\n",
    "test_fpr, test_tpr, te_thresholds = roc_curve(y_test, y_test_probs)\n",
    "plt.figure(figsize=(8,6))\n",
    "plt.plot(train_fpr, train_tpr, label=\"Train AUC =\"+str(auc(train_fpr, train_tpr)))\n",
    "plt.plot(test_fpr, test_tpr, label=\"Test AUC =\"+str(auc(test_fpr, test_tpr)))\n",
    "plt.legend()\n",
    "plt.xlabel(\"False Positive Rate(FPR)\")\n",
    "plt.ylabel(\"True Positive Rate(TPR)\")\n",
    "plt.title(\"AUC\")\n",
    "plt.grid(color='black',lw=0.5)"
   ]
  },
  {
   "cell_type": "code",
   "execution_count": 42,
   "id": "0f9674a0",
   "metadata": {},
   "outputs": [],
   "source": [
    "def find_best_threshold(threshould, fpr, tpr):\n",
    " t = threshould[np.argmax(tpr*(1-fpr))]\n",
    " print(\"the maximum value of tpr*(1-fpr)\", max(tpr*(1-fpr)), \"for threshold\", np.round(t,3))\n",
    " return t\n",
    "def predict_with_best_t(proba, threshould):\n",
    "  prediction=[]\n",
    "  for i in proba:\n",
    "    if i>=threshould:\n",
    "      prediction.append(1)\n",
    "    else:\n",
    "      prediction.append(0)\n",
    "  return prediction"
   ]
  },
  {
   "cell_type": "code",
   "execution_count": 43,
   "id": "96842cfc",
   "metadata": {},
   "outputs": [
    {
     "name": "stdout",
     "output_type": "stream",
     "text": [
      "the maximum value of tpr*(1-fpr) 1.0 for threshold 0.644\n",
      "Train confusion matrix\n",
      "[[47945     0]\n",
      " [    0    55]]\n"
     ]
    }
   ],
   "source": [
    "from sklearn.metrics import confusion_matrix\n",
    "best_t = find_best_threshold(tr_thresholds, train_fpr, train_tpr)\n",
    "print(\"Train confusion matrix\")\n",
    "l=predict_with_best_t(y_train_probs, best_t)\n",
    "k=confusion_matrix(y_train,l)\n",
    "print(k)"
   ]
  },
  {
   "cell_type": "code",
   "execution_count": 44,
   "id": "05901208",
   "metadata": {},
   "outputs": [
    {
     "data": {
      "text/plain": [
       "<AxesSubplot:title={'center':'Train data '}>"
      ]
     },
     "execution_count": 44,
     "metadata": {},
     "output_type": "execute_result"
    },
    {
     "data": {
      "image/png": "[encoded data removed]",
      "text/plain": [
       "<Figure size 432x288 with 2 Axes>"
      ]
     },
     "metadata": {
      "needs_background": "light"
     },
     "output_type": "display_data"
    }
   ],
   "source": [
    "import matplotlib.pyplot as plt \n",
    "import seaborn as sns\n",
    "plt.title(\"Train data \")\n",
    "sns.heatmap(k, annot=True,fmt=\"d\",cmap='Blues')"
   ]
  },
  {
   "cell_type": "code",
   "execution_count": 45,
   "id": "e982b347",
   "metadata": {},
   "outputs": [
    {
     "name": "stdout",
     "output_type": "stream",
     "text": [
      "the maximum value of tpr*(1-fpr) 0.7101713713283961 for threshold 0.002\n",
      "Test confusion matrix\n",
      "[[11910    69]\n",
      " [    6    15]]\n"
     ]
    }
   ],
   "source": [
    "best_t = find_best_threshold(te_thresholds, test_fpr, test_tpr)\n",
    "print(\"Test confusion matrix\")\n",
    "l=predict_with_best_t(y_test_probs, best_t)\n",
    "k=confusion_matrix(y_test,l)\n",
    "print(k)"
   ]
  },
  {
   "cell_type": "code",
   "execution_count": 46,
   "id": "b3f1afde",
   "metadata": {},
   "outputs": [
    {
     "data": {
      "text/plain": [
       "<AxesSubplot:title={'center':'Test data '}>"
      ]
     },
     "execution_count": 46,
     "metadata": {},
     "output_type": "execute_result"
    },
    {
     "data": {
      "image/png": "[encoded data removed]",
      "text/plain": [
       "<Figure size 432x288 with 2 Axes>"
      ]
     },
     "metadata": {
      "needs_background": "light"
     },
     "output_type": "display_data"
    }
   ],
   "source": [
    "import matplotlib.pyplot as plt \n",
    "import seaborn as sns\n",
    "plt.title(\"Test data \")\n",
    "sns.heatmap(k, annot=True,fmt=\"d\",cmap='Oranges')"
   ]
  },
  {
   "cell_type": "markdown",
   "id": "306ff825",
   "metadata": {},
   "source": [
    "## Observations\n",
    "1.Here the accuracy is very high for both train data and test data\n",
    "\n",
    "2.But if we check the confusion matrix we can observe that number of turely classified \"isfraud\" is very less\n",
    "\n",
    "3.As we it is an imbalaced data we can't totaly depend on this output for this we have to make the daat balance then we have check the output"
   ]
  },
  {
   "cell_type": "markdown",
   "id": "413109b7",
   "metadata": {},
   "source": [
    "# Working with balanced Data"
   ]
  },
  {
   "cell_type": "code",
   "execution_count": 47,
   "id": "32676faf",
   "metadata": {},
   "outputs": [],
   "source": [
    "df = pd.read_csv(\"Fraud.csv\")"
   ]
  },
  {
   "cell_type": "code",
   "execution_count": 48,
   "id": "e5c7e926",
   "metadata": {},
   "outputs": [
    {
     "name": "stdout",
     "output_type": "stream",
     "text": [
      "<class 'pandas.core.frame.DataFrame'>\n",
      "RangeIndex: 6362620 entries, 0 to 6362619\n",
      "Data columns (total 11 columns):\n",
      " #   Column          Dtype  \n",
      "---  ------          -----  \n",
      " 0   step            int64  \n",
      " 1   type            object \n",
      " 2   amount          float64\n",
      " 3   nameOrig        object \n",
      " 4   oldbalanceOrg   float64\n",
      " 5   newbalanceOrig  float64\n",
      " 6   nameDest        object \n",
      " 7   oldbalanceDest  float64\n",
      " 8   newbalanceDest  float64\n",
      " 9   isFraud         int64  \n",
      " 10  isFlaggedFraud  int64  \n",
      "dtypes: float64(5), int64(3), object(3)\n",
      "memory usage: 534.0+ MB\n"
     ]
    }
   ],
   "source": [
    "df.info()"
   ]
  },
  {
   "cell_type": "code",
   "execution_count": 49,
   "id": "a5fbf659",
   "metadata": {},
   "outputs": [
    {
     "data": {
      "text/html": [
       "<div>\n",
       "<style scoped>\n",
       "    .dataframe tbody tr th:only-of-type {\n",
       "        vertical-align: middle;\n",
       "    }\n",
       "\n",
       "    .dataframe tbody tr th {\n",
       "        vertical-align: top;\n",
       "    }\n",
       "\n",
       "    .dataframe thead th {\n",
       "        text-align: right;\n",
       "    }\n",
       "</style>\n",
       "<table border=\"1\" class=\"dataframe\">\n",
       "  <thead>\n",
       "    <tr style=\"text-align: right;\">\n",
       "      <th></th>\n",
       "      <th>step</th>\n",
       "      <th>type</th>\n",
       "      <th>amount</th>\n",
       "      <th>nameOrig</th>\n",
       "      <th>oldbalanceOrg</th>\n",
       "      <th>newbalanceOrig</th>\n",
       "      <th>nameDest</th>\n",
       "      <th>oldbalanceDest</th>\n",
       "      <th>newbalanceDest</th>\n",
       "      <th>isFraud</th>\n",
       "      <th>isFlaggedFraud</th>\n",
       "    </tr>\n",
       "  </thead>\n",
       "  <tbody>\n",
       "    <tr>\n",
       "      <th>0</th>\n",
       "      <td>1</td>\n",
       "      <td>PAYMENT</td>\n",
       "      <td>9839.64</td>\n",
       "      <td>C1231006815</td>\n",
       "      <td>170136.0</td>\n",
       "      <td>160296.36</td>\n",
       "      <td>M1979787155</td>\n",
       "      <td>0.0</td>\n",
       "      <td>0.0</td>\n",
       "      <td>0</td>\n",
       "      <td>0</td>\n",
       "    </tr>\n",
       "    <tr>\n",
       "      <th>1</th>\n",
       "      <td>1</td>\n",
       "      <td>PAYMENT</td>\n",
       "      <td>1864.28</td>\n",
       "      <td>C1666544295</td>\n",
       "      <td>21249.0</td>\n",
       "      <td>19384.72</td>\n",
       "      <td>M2044282225</td>\n",
       "      <td>0.0</td>\n",
       "      <td>0.0</td>\n",
       "      <td>0</td>\n",
       "      <td>0</td>\n",
       "    </tr>\n",
       "    <tr>\n",
       "      <th>2</th>\n",
       "      <td>1</td>\n",
       "      <td>TRANSFER</td>\n",
       "      <td>181.00</td>\n",
       "      <td>C1305486145</td>\n",
       "      <td>181.0</td>\n",
       "      <td>0.00</td>\n",
       "      <td>C553264065</td>\n",
       "      <td>0.0</td>\n",
       "      <td>0.0</td>\n",
       "      <td>1</td>\n",
       "      <td>0</td>\n",
       "    </tr>\n",
       "    <tr>\n",
       "      <th>3</th>\n",
       "      <td>1</td>\n",
       "      <td>CASH_OUT</td>\n",
       "      <td>181.00</td>\n",
       "      <td>C840083671</td>\n",
       "      <td>181.0</td>\n",
       "      <td>0.00</td>\n",
       "      <td>C38997010</td>\n",
       "      <td>21182.0</td>\n",
       "      <td>0.0</td>\n",
       "      <td>1</td>\n",
       "      <td>0</td>\n",
       "    </tr>\n",
       "    <tr>\n",
       "      <th>4</th>\n",
       "      <td>1</td>\n",
       "      <td>PAYMENT</td>\n",
       "      <td>11668.14</td>\n",
       "      <td>C2048537720</td>\n",
       "      <td>41554.0</td>\n",
       "      <td>29885.86</td>\n",
       "      <td>M1230701703</td>\n",
       "      <td>0.0</td>\n",
       "      <td>0.0</td>\n",
       "      <td>0</td>\n",
       "      <td>0</td>\n",
       "    </tr>\n",
       "  </tbody>\n",
       "</table>\n",
       "</div>"
      ],
      "text/plain": [
       "   step      type    amount     nameOrig  oldbalanceOrg  newbalanceOrig  \\\n",
       "0     1   PAYMENT   9839.64  C1231006815       170136.0       160296.36   \n",
       "1     1   PAYMENT   1864.28  C1666544295        21249.0        19384.72   \n",
       "2     1  TRANSFER    181.00  C1305486145          181.0            0.00   \n",
       "3     1  CASH_OUT    181.00   C840083671          181.0            0.00   \n",
       "4     1   PAYMENT  11668.14  C2048537720        41554.0        29885.86   \n",
       "\n",
       "      nameDest  oldbalanceDest  newbalanceDest  isFraud  isFlaggedFraud  \n",
       "0  M1979787155             0.0             0.0        0               0  \n",
       "1  M2044282225             0.0             0.0        0               0  \n",
       "2   C553264065             0.0             0.0        1               0  \n",
       "3    C38997010         21182.0             0.0        1               0  \n",
       "4  M1230701703             0.0             0.0        0               0  "
      ]
     },
     "execution_count": 49,
     "metadata": {},
     "output_type": "execute_result"
    }
   ],
   "source": [
    "df.head()"
   ]
  },
  {
   "cell_type": "code",
   "execution_count": 50,
   "id": "978d122a",
   "metadata": {},
   "outputs": [],
   "source": [
    "result=df[\"isFraud\"]\n",
    "df.drop(\"isFraud\",axis=1,inplace=True)"
   ]
  },
  {
   "cell_type": "code",
   "execution_count": 51,
   "id": "3c402492",
   "metadata": {},
   "outputs": [
    {
     "name": "stdout",
     "output_type": "stream",
     "text": [
      "Requirement already satisfied: imblearn in c:\\python\\lib\\site-packages (0.0)Note: you may need to restart the kernel to use updated packages.\n",
      "Requirement already satisfied: imbalanced-learn in c:\\python\\lib\\site-packages (from imblearn) (0.9.0)\n",
      "Requirement already satisfied: joblib>=0.11 in c:\\python\\lib\\site-packages (from imbalanced-learn->imblearn) (1.1.0)\n",
      "Requirement already satisfied: scikit-learn>=1.0.1 in c:\\python\\lib\\site-packages (from imbalanced-learn->imblearn) (1.0.2)\n",
      "Requirement already satisfied: threadpoolctl>=2.0.0 in c:\\python\\lib\\site-packages (from imbalanced-learn->imblearn) (3.0.0)\n",
      "Requirement already satisfied: scipy>=1.1.0 in c:\\python\\lib\\site-packages (from imbalanced-learn->imblearn) (1.7.0)\n",
      "Requirement already satisfied: numpy>=1.14.6 in c:\\python\\lib\\site-packages (from imbalanced-learn->imblearn) (1.20.3)\n",
      "\n"
     ]
    },
    {
     "name": "stderr",
     "output_type": "stream",
     "text": [
      "WARNING: You are using pip version 22.0.3; however, version 22.1 is available.\n",
      "You should consider upgrading via the 'c:\\python\\python.exe -m pip install --upgrade pip' command.\n"
     ]
    }
   ],
   "source": [
    "pip install imblearn"
   ]
  },
  {
   "cell_type": "code",
   "execution_count": 52,
   "id": "50d29f65",
   "metadata": {},
   "outputs": [],
   "source": [
    "from imblearn.under_sampling import RandomUnderSampler  \n",
    "                                                          #Doing Under sampling to make data balance\n",
    "under_sampler = RandomUnderSampler()\n",
    "X_res, y_res = under_sampler.fit_resample(df,result)"
   ]
  },
  {
   "cell_type": "code",
   "execution_count": 53,
   "id": "36b50103",
   "metadata": {},
   "outputs": [
    {
     "name": "stdout",
     "output_type": "stream",
     "text": [
      "8213\n",
      "8213\n"
     ]
    }
   ],
   "source": [
    "True_fraud=np.sum(y_res==1)\n",
    "False_fraud=np.sum(y_res==0)\n",
    "print(True_fraud)\n",
    "print(False_fraud)"
   ]
  },
  {
   "cell_type": "code",
   "execution_count": 54,
   "id": "0109ac0a",
   "metadata": {},
   "outputs": [],
   "source": [
    "from sklearn.model_selection import train_test_split\n",
    "x_train,x_test,y_train,y_test=train_test_split(X_res,y_res,test_size=0.20,random_state=42)"
   ]
  },
  {
   "cell_type": "code",
   "execution_count": 55,
   "id": "aba418cb",
   "metadata": {},
   "outputs": [
    {
     "data": {
      "text/html": [
       "<div>\n",
       "<style scoped>\n",
       "    .dataframe tbody tr th:only-of-type {\n",
       "        vertical-align: middle;\n",
       "    }\n",
       "\n",
       "    .dataframe tbody tr th {\n",
       "        vertical-align: top;\n",
       "    }\n",
       "\n",
       "    .dataframe thead th {\n",
       "        text-align: right;\n",
       "    }\n",
       "</style>\n",
       "<table border=\"1\" class=\"dataframe\">\n",
       "  <thead>\n",
       "    <tr style=\"text-align: right;\">\n",
       "      <th></th>\n",
       "      <th>step</th>\n",
       "      <th>type</th>\n",
       "      <th>amount</th>\n",
       "      <th>nameOrig</th>\n",
       "      <th>oldbalanceOrg</th>\n",
       "      <th>newbalanceOrig</th>\n",
       "      <th>nameDest</th>\n",
       "      <th>oldbalanceDest</th>\n",
       "      <th>newbalanceDest</th>\n",
       "      <th>isFlaggedFraud</th>\n",
       "    </tr>\n",
       "  </thead>\n",
       "  <tbody>\n",
       "    <tr>\n",
       "      <th>0</th>\n",
       "      <td>186</td>\n",
       "      <td>PAYMENT</td>\n",
       "      <td>3479.86</td>\n",
       "      <td>C620638956</td>\n",
       "      <td>0.0</td>\n",
       "      <td>0.0</td>\n",
       "      <td>M541132361</td>\n",
       "      <td>0.00</td>\n",
       "      <td>0.00</td>\n",
       "      <td>0</td>\n",
       "    </tr>\n",
       "    <tr>\n",
       "      <th>1</th>\n",
       "      <td>43</td>\n",
       "      <td>PAYMENT</td>\n",
       "      <td>3882.86</td>\n",
       "      <td>C664934151</td>\n",
       "      <td>0.0</td>\n",
       "      <td>0.0</td>\n",
       "      <td>M120425618</td>\n",
       "      <td>0.00</td>\n",
       "      <td>0.00</td>\n",
       "      <td>0</td>\n",
       "    </tr>\n",
       "    <tr>\n",
       "      <th>2</th>\n",
       "      <td>18</td>\n",
       "      <td>CASH_OUT</td>\n",
       "      <td>360983.82</td>\n",
       "      <td>C1003671868</td>\n",
       "      <td>79.0</td>\n",
       "      <td>0.0</td>\n",
       "      <td>C508363672</td>\n",
       "      <td>219322.78</td>\n",
       "      <td>580306.59</td>\n",
       "      <td>0</td>\n",
       "    </tr>\n",
       "    <tr>\n",
       "      <th>3</th>\n",
       "      <td>136</td>\n",
       "      <td>PAYMENT</td>\n",
       "      <td>2827.04</td>\n",
       "      <td>C1562890304</td>\n",
       "      <td>0.0</td>\n",
       "      <td>0.0</td>\n",
       "      <td>M1342149941</td>\n",
       "      <td>0.00</td>\n",
       "      <td>0.00</td>\n",
       "      <td>0</td>\n",
       "    </tr>\n",
       "    <tr>\n",
       "      <th>4</th>\n",
       "      <td>41</td>\n",
       "      <td>CASH_OUT</td>\n",
       "      <td>52638.74</td>\n",
       "      <td>C702090020</td>\n",
       "      <td>924.0</td>\n",
       "      <td>0.0</td>\n",
       "      <td>C222614065</td>\n",
       "      <td>1661200.90</td>\n",
       "      <td>1713839.64</td>\n",
       "      <td>0</td>\n",
       "    </tr>\n",
       "  </tbody>\n",
       "</table>\n",
       "</div>"
      ],
      "text/plain": [
       "   step      type     amount     nameOrig  oldbalanceOrg  newbalanceOrig  \\\n",
       "0   186   PAYMENT    3479.86   C620638956            0.0             0.0   \n",
       "1    43   PAYMENT    3882.86   C664934151            0.0             0.0   \n",
       "2    18  CASH_OUT  360983.82  C1003671868           79.0             0.0   \n",
       "3   136   PAYMENT    2827.04  C1562890304            0.0             0.0   \n",
       "4    41  CASH_OUT   52638.74   C702090020          924.0             0.0   \n",
       "\n",
       "      nameDest  oldbalanceDest  newbalanceDest  isFlaggedFraud  \n",
       "0   M541132361            0.00            0.00               0  \n",
       "1   M120425618            0.00            0.00               0  \n",
       "2   C508363672       219322.78       580306.59               0  \n",
       "3  M1342149941            0.00            0.00               0  \n",
       "4   C222614065      1661200.90      1713839.64               0  "
      ]
     },
     "execution_count": 55,
     "metadata": {},
     "output_type": "execute_result"
    }
   ],
   "source": [
    "X_res.head()"
   ]
  },
  {
   "cell_type": "code",
   "execution_count": 56,
   "id": "7f2b70ff",
   "metadata": {},
   "outputs": [
    {
     "data": {
      "text/plain": [
       "0    0\n",
       "1    0\n",
       "2    0\n",
       "3    0\n",
       "4    0\n",
       "Name: isFraud, dtype: int64"
      ]
     },
     "execution_count": 56,
     "metadata": {},
     "output_type": "execute_result"
    }
   ],
   "source": [
    "y_res.head()"
   ]
  },
  {
   "cell_type": "code",
   "execution_count": 57,
   "id": "5292b0fa",
   "metadata": {},
   "outputs": [],
   "source": [
    "le = preprocessing.LabelEncoder()\n",
    "le.fit(df[\"type\"])\n",
    "train_type=le.transform(x_train[\"type\"])\n",
    "test_type=le.transform(x_test[\"type\"])"
   ]
  },
  {
   "cell_type": "code",
   "execution_count": 58,
   "id": "c2b55996",
   "metadata": {},
   "outputs": [],
   "source": [
    "le2=preprocessing.LabelEncoder()\n",
    "le2.fit(df[\"nameOrig\"])\n",
    "train_nameOrig=le2.transform(x_train[\"nameOrig\"])\n",
    "test_nameOrig=le2.transform(x_test[\"nameOrig\"])"
   ]
  },
  {
   "cell_type": "code",
   "execution_count": 59,
   "id": "d5f36fe0",
   "metadata": {},
   "outputs": [],
   "source": [
    "le3=preprocessing.LabelEncoder()\n",
    "le3.fit(df[\"nameDest\"])\n",
    "train_nameDest=le3.transform(x_train[\"nameDest\"])\n",
    "test_nameDest=le3.transform(x_test[\"nameDest\"])"
   ]
  },
  {
   "cell_type": "code",
   "execution_count": 60,
   "id": "e87b9efa",
   "metadata": {},
   "outputs": [],
   "source": [
    "x_train.drop([\"type\",\"nameOrig\",\"nameDest\"],axis=1,inplace=True)"
   ]
  },
  {
   "cell_type": "code",
   "execution_count": 61,
   "id": "c808cb72",
   "metadata": {},
   "outputs": [],
   "source": [
    "x_train[\"type\"]=train_type\n",
    "x_train[\"nameOrig\"]=train_nameOrig\n",
    "x_train[\"nameDest\"]=train_nameDest"
   ]
  },
  {
   "cell_type": "code",
   "execution_count": 62,
   "id": "98402e3f",
   "metadata": {},
   "outputs": [],
   "source": [
    "x_test.drop([\"type\",\"nameOrig\",\"nameDest\"],axis=1,inplace=True)"
   ]
  },
  {
   "cell_type": "code",
   "execution_count": 63,
   "id": "ef155c60",
   "metadata": {},
   "outputs": [],
   "source": [
    "x_test[\"type\"]=test_type\n",
    "x_test[\"nameOrig\"]=test_nameOrig\n",
    "x_test[\"nameDest\"]=test_nameDest"
   ]
  },
  {
   "cell_type": "code",
   "execution_count": 64,
   "id": "4061cb97",
   "metadata": {},
   "outputs": [],
   "source": [
    "import xgboost as xgb\n",
    "xgb_model  = xgb.XGBClassifier()"
   ]
  },
  {
   "cell_type": "code",
   "execution_count": 65,
   "id": "dda9e119",
   "metadata": {},
   "outputs": [
    {
     "data": {
      "text/plain": [
       "GridSearchCV(cv=3,\n",
       "             estimator=XGBClassifier(base_score=None, booster=None,\n",
       "                                     callbacks=None, colsample_bylevel=None,\n",
       "                                     colsample_bynode=None,\n",
       "                                     colsample_bytree=None,\n",
       "                                     early_stopping_rounds=None,\n",
       "                                     enable_categorical=False, eval_metric=None,\n",
       "                                     gamma=None, gpu_id=None, grow_policy=None,\n",
       "                                     importance_type=None,\n",
       "                                     interaction_constraints=None,\n",
       "                                     learning_rate=None, max_bin=None,\n",
       "                                     max_cat_to_onehot=None,\n",
       "                                     max_delta_step=None, max_depth=None,\n",
       "                                     max_leaves=None, min_child_weight=None,\n",
       "                                     missing=nan, monotone_constraints=None,\n",
       "                                     n_estimators=100, n_jobs=None,\n",
       "                                     num_parallel_tree=None, predictor=None,\n",
       "                                     random_state=None, reg_alpha=None,\n",
       "                                     reg_lambda=None, ...),\n",
       "             n_jobs=-1, param_grid={'max_depth': [1, 2, 3, 4]},\n",
       "             return_train_score=True, scoring='roc_auc')"
      ]
     },
     "execution_count": 65,
     "metadata": {},
     "output_type": "execute_result"
    }
   ],
   "source": [
    "from sklearn.model_selection import GridSearchCV\n",
    "parameters = {\"max_depth\":[1,2,3,4] }\n",
    "clf = GridSearchCV(xgb.XGBClassifier(), parameters, cv=3, scoring='roc_auc',return_train_score=True,n_jobs=-1)\n",
    "clf.fit(x_train,y_train)"
   ]
  },
  {
   "cell_type": "code",
   "execution_count": 66,
   "id": "97cdb98d",
   "metadata": {},
   "outputs": [
    {
     "name": "stdout",
     "output_type": "stream",
     "text": [
      "Best Parameter {'max_depth': 4}\n"
     ]
    },
    {
     "data": {
      "image/png": "[encoded data removed]",
      "text/plain": [
       "<Figure size 432x288 with 1 Axes>"
      ]
     },
     "metadata": {
      "needs_background": "light"
     },
     "output_type": "display_data"
    }
   ],
   "source": [
    "import matplotlib.pyplot as plt\n",
    "max_depth=[1,2,3,4]\n",
    "df=pd.DataFrame.from_dict(clf.cv_results_)\n",
    "train_auc=df['mean_train_score']\n",
    "test_auc=df['mean_test_score']\n",
    "plt.grid()\n",
    "plt.plot(max_depth,train_auc,label=\"Train-Auc\")\n",
    "plt.plot(max_depth,test_auc,label=\"Test-Auc\")\n",
    "plt.legend()\n",
    "plt.title(\"Depth vs Auc\")\n",
    "print(\"Best Parameter\",clf.best_params_)"
   ]
  },
  {
   "cell_type": "code",
   "execution_count": 67,
   "id": "44092a08",
   "metadata": {},
   "outputs": [
    {
     "data": {
      "image/png": "[encoded data removed]",
      "text/plain": [
       "<Figure size 576x432 with 1 Axes>"
      ]
     },
     "metadata": {
      "needs_background": "light"
     },
     "output_type": "display_data"
    }
   ],
   "source": [
    "from sklearn.metrics import roc_curve, auc\n",
    "\n",
    "model_set=xgb.XGBClassifier(max_depth=4)\n",
    "model_set.fit(x_train,y_train)\n",
    "y_train_probs = model_set.predict_proba(x_train)[:,1] # converting train and test output into probability\n",
    "y_test_probs= model_set.predict_proba(x_test)[:,1]\n",
    "train_fpr, train_tpr, tr_thresholds = roc_curve(y_train, y_train_probs) # storing values of fpr and tpr\n",
    "test_fpr, test_tpr, te_thresholds = roc_curve(y_test, y_test_probs)\n",
    "plt.figure(figsize=(8,6))\n",
    "plt.plot(train_fpr, train_tpr, label=\"Train AUC =\"+str(auc(train_fpr, train_tpr)))\n",
    "plt.plot(test_fpr, test_tpr, label=\"Test AUC =\"+str(auc(test_fpr, test_tpr)))\n",
    "plt.legend()\n",
    "plt.xlabel(\"False Positive Rate(FPR)\")\n",
    "plt.ylabel(\"True Positive Rate(TPR)\")\n",
    "plt.title(\"AUC\")\n",
    "plt.grid(color='black',lw=0.5)"
   ]
  },
  {
   "cell_type": "code",
   "execution_count": 68,
   "id": "ef31eabe",
   "metadata": {},
   "outputs": [],
   "source": [
    "def find_best_threshold(threshould, fpr, tpr):\n",
    " t = threshould[np.argmax(tpr*(1-fpr))]\n",
    " print(\"the maximum value of tpr*(1-fpr)\", max(tpr*(1-fpr)), \"for threshold\", np.round(t,3))\n",
    " return t\n",
    "def predict_with_best_t(proba, threshould):\n",
    "  prediction=[]\n",
    "  for i in proba:\n",
    "    if i>=threshould:\n",
    "      prediction.append(1)\n",
    "    else:\n",
    "      prediction.append(0)\n",
    "  return prediction"
   ]
  },
  {
   "cell_type": "code",
   "execution_count": 69,
   "id": "65038e5a",
   "metadata": {},
   "outputs": [
    {
     "name": "stdout",
     "output_type": "stream",
     "text": [
      "the maximum value of tpr*(1-fpr) 0.9978710693957011 for threshold 0.671\n",
      "Train confusion matrix\n",
      "[[6563    1]\n",
      " [  13 6563]]\n"
     ]
    }
   ],
   "source": [
    "from sklearn.metrics import confusion_matrix\n",
    "best_t = find_best_threshold(tr_thresholds, train_fpr, train_tpr)\n",
    "print(\"Train confusion matrix\")\n",
    "l=predict_with_best_t(y_train_probs, best_t)\n",
    "k=confusion_matrix(y_train,l)\n",
    "print(k)"
   ]
  },
  {
   "cell_type": "code",
   "execution_count": 70,
   "id": "3f7d981e",
   "metadata": {},
   "outputs": [
    {
     "data": {
      "text/plain": [
       "<AxesSubplot:title={'center':'Train data '}>"
      ]
     },
     "execution_count": 70,
     "metadata": {},
     "output_type": "execute_result"
    },
    {
     "data": {
      "image/png": "[encoded data removed]",
      "text/plain": [
       "<Figure size 432x288 with 2 Axes>"
      ]
     },
     "metadata": {
      "needs_background": "light"
     },
     "output_type": "display_data"
    }
   ],
   "source": [
    "import matplotlib.pyplot as plt \n",
    "import seaborn as sns\n",
    "plt.title(\"Train data \")\n",
    "sns.heatmap(k, annot=True,fmt=\"d\",cmap='Blues')"
   ]
  },
  {
   "cell_type": "code",
   "execution_count": 71,
   "id": "70ff032e",
   "metadata": {},
   "outputs": [
    {
     "name": "stdout",
     "output_type": "stream",
     "text": [
      "the maximum value of tpr*(1-fpr) 0.9927213805371761 for threshold 0.461\n",
      "Test confusion matrix\n",
      "[[1639   10]\n",
      " [   2 1635]]\n"
     ]
    }
   ],
   "source": [
    "best_t = find_best_threshold(te_thresholds, test_fpr, test_tpr)\n",
    "print(\"Test confusion matrix\")\n",
    "l=predict_with_best_t(y_test_probs, best_t)\n",
    "k=confusion_matrix(y_test,l)\n",
    "print(k)"
   ]
  },
  {
   "cell_type": "markdown",
   "id": "8c1aec6c",
   "metadata": {},
   "source": [
    "## Note: \n",
    "Do not use accuracy score as a metric. In a dataset with 99.9% non-fraud observations, you will likely make correct prediction 99% of time. Confusion matrix and precision/recall score are better metric."
   ]
  },
  {
   "cell_type": "code",
   "execution_count": 72,
   "id": "e484b14c",
   "metadata": {},
   "outputs": [
    {
     "data": {
      "text/plain": [
       "<AxesSubplot:title={'center':'Test data '}>"
      ]
     },
     "execution_count": 72,
     "metadata": {},
     "output_type": "execute_result"
    },
    {
     "data": {
      "image/png": "[encoded data removed]",
      "text/plain": [
       "<Figure size 432x288 with 2 Axes>"
      ]
     },
     "metadata": {
      "needs_background": "light"
     },
     "output_type": "display_data"
    }
   ],
   "source": [
    "import matplotlib.pyplot as plt \n",
    "import seaborn as sns\n",
    "plt.title(\"Test data \")\n",
    "sns.heatmap(k, annot=True,fmt=\"d\",cmap='Oranges')"
   ]
  },
  {
   "cell_type": "markdown",
   "id": "41de3acb",
   "metadata": {},
   "source": [
    "## Observations\n",
    "1.Here accuracy is very high\n",
    "\n",
    "2.here from confusion matrix we can conclude that has very good value in Truepositive and TrueNegetive.\n",
    "\n",
    "3.as it is a balanced data we can say that it will work well in unseen data\n",
    "\n",
    "4.For prevention we should look into the FN values like if it is very high then we have add some other system the work on"
   ]
  },
  {
   "cell_type": "markdown",
   "id": "5a7858db",
   "metadata": {},
   "source": [
    "#### 7. What kind of prevention should be adopted while company update its infrastructure?"
   ]
  },
  {
   "cell_type": "markdown",
   "id": "02ebafb7",
   "metadata": {},
   "source": [
    "Fraud Prevention and Detection: Fraud prevention and detection is a continuous, ongoing process and the key to prevention is to detect it right at the stage of origination on a real time basis. However, it is easier said than done. Machine learning (ML) and Artificial Intelligence (AL) algorithms offer an effective counter for fraud detection and prevention. Based on the learning from the historical patterns in data, current sets of transactions can be analysed before lending companies decide to proceed with a particular application.\n",
    "\n",
    "Multiple variables relating to transactions such as income, location, employment history, education, digital identities (phone number and email id) will be analysed for the possibility of fabricated detail in the application form. Similarly, fraudsters also come up with newer ways to bypass the checks in place. Hence, for any company, making the algorithms better by training them on newer methods is important to stay ahead in the game. The use of reinforcement learning through machine learning algorithms can continuously take feedback from humans and learn to become increasingly accurate with time. However, it can be an expensive affair for small and medium size companies.Another ingenious way for small and medium size companies is to take a collaborative approach"
   ]
  },
  {
   "cell_type": "markdown",
   "id": "2a85c4c9",
   "metadata": {},
   "source": [
    "#### 8. Assuming these actions have been implemented, how would you determine if they work?"
   ]
  },
  {
   "cell_type": "markdown",
   "id": "051c17d3",
   "metadata": {},
   "source": [
    "Machine learning finds a perfect use case in fraud detection. Machine learning algorithms learn to tell fraudulent operations from legitimate ones without raising the suspicions of those executing the transactions. Machine learning can fight financial fraud by using big data better and faster than humans ever will be able to.\n",
    "As The company will start using data science to prevent financial fraud. Machine learning is currently the most promising innovative tool that can help companies prevent fraudulent operations that lead to greater losses each year.\n",
    "So through this process we can be able to check whether any fraud transaction is happening or not using our trained model and parralely increasing the efficiency of our model to provide some more information or more training data.\n",
    "Luckily, machine learning has the potential to improve bank fraud detection with data analytics and help nearly every industry."
   ]
  },
  {
   "cell_type": "markdown",
   "id": "daa15d08",
   "metadata": {},
   "source": [
    "Note:And solution of other question i have already written in between the code wherever it has been implemented."
   ]
  }
 ],
 "metadata": {
  "kernelspec": {
   "display_name": "Python 3 (ipykernel)",
   "language": "python",
   "name": "python3"
  },
  "language_info": {
   "codemirror_mode": {
    "name": "ipython",
    "version": 3
   },
   "file_extension": ".py",
   "mimetype": "text/x-python",
   "name": "python",
   "nbconvert_exporter": "python",
   "pygments_lexer": "ipython3",
   "version": "3.9.5"
  }
 },
 "nbformat": 4,
 "nbformat_minor": 5
}
